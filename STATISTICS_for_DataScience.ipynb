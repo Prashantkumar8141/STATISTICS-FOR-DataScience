{
  "nbformat": 4,
  "nbformat_minor": 0,
  "metadata": {
    "colab": {
      "name": "STATISTICS for DataScience.ipynb",
      "provenance": []
    },
    "kernelspec": {
      "name": "python3",
      "display_name": "Python 3"
    },
    "language_info": {
      "name": "python"
    }
  },
  "cells": [
    {
      "cell_type": "code",
      "execution_count": 1,
      "metadata": {
        "colab": {
          "base_uri": "https://localhost:8080/"
        },
        "id": "jSKPzC5lhDDz",
        "outputId": "b8fa702c-35c4-4297-b9c3-8157082d754c"
      },
      "outputs": [
        {
          "output_type": "stream",
          "name": "stdout",
          "text": [
            "12.7\n",
            "849.61\n",
            "29.148070262025925\n",
            "12.7\n",
            "3.0\n",
            "0\n",
            "100\n",
            "3\n"
          ]
        }
      ],
      "source": [
        "d1= [1,2,3,4,100,6,3,5,3,0]\n",
        "import numpy as np\n",
        "import statistics as s\n",
        "print(np.average(d1))\n",
        "print(np.var(d1))\n",
        "print(np.std(d1))\n",
        "print(np.mean(d1))\n",
        "print(np.median(d1))\n",
        "print(np.min(d1))\n",
        "print(np.max(d1))\n",
        "print(s.mode(d1))\n"
      ]
    },
    {
      "cell_type": "markdown",
      "source": [
        "# **Binomial distribution**"
      ],
      "metadata": {
        "id": "HfDyYHF5n6Ca"
      }
    },
    {
      "cell_type": "code",
      "source": [
        "from numpy import random\n",
        "#Binomial distribution\n",
        "import matplotlib.pyplot as plt\n",
        "import seaborn as sns\n",
        "from scipy.stats import binom\n",
        "import numpy as np\n",
        "n=5#number of trials\n",
        "p=0.5#probability of success(tossing a coin)\n",
        " \n",
        "data_binom =binom.rvs(n,p,size=1000,random_state=100)\n",
        "print(data_binom)\n",
        "#print(data_binom)\n",
        "#the random_state parameter is used for initializing the internal random number generator,\n",
        "#size decides the number of times to repeat the trials\n",
        " \n",
        "#numpy_binom=np.random.binomial(n,p,size=1000)\n",
        "#Probability of getting the number of heads (0, 1, 2, 3…50) while tossing a coin 50 times;\n",
        "#Here, the random variable X is the number of “successes” that is the number of times heads occurs.\n",
        "#The probability of getting a heads is 1/2. Binomial distribution could be represented as B(50,0.5).\n",
        "#The diagram below represents the binomial distribution for 1000 experiments.\n",
        " \n",
        " \n",
        "binom_pd = binom.pmf(data_binom, n, p)\n",
        " \n",
        " \n",
        "ax = sns.distplot(binom_pd,\n",
        "                 kde=False,\n",
        "                 color='skyblue',\n",
        "                 hist_kws={\"linewidth\": 15,'alpha':1})\n",
        "ax.set(xlabel='Binomial Distribution', ylabel='Frequency')\n",
        " \n",
        "fig, ax = plt.subplots(1, 1, figsize=(8, 6))\n",
        "ax.plot(data_binom, binom_pd, 'bo', ms=8, label='geom pmf')\n",
        "plt.ylabel(\"Probability\", fontsize=\"18\")\n",
        "plt.xlabel(\"X - No. of Successes\", fontsize=\"18\")\n",
        "plt.title(\"Binomial Distribution - No. of Successes Vs Probability\", fontsize=\"18\")\n",
        "ax.vlines(data_binom, 0, binom_pd, colors='b', lw=5, alpha=0.5)\n"
      ],
      "metadata": {
        "colab": {
          "base_uri": "https://localhost:8080/",
          "height": 1000
        },
        "id": "7-7nL-wqhI9O",
        "outputId": "1b67e5fc-4fae-4d61-bb9b-6af1658dd6df"
      },
      "execution_count": 2,
      "outputs": [
        {
          "output_type": "stream",
          "name": "stdout",
          "text": [
            "[3 2 2 4 0 1 3 4 1 3 4 2 1 1 2 5 3 1 4 2 2 4 4 2 1 2 0 2 3 0 3 3 1 2 1 4 5\n",
            " 1 4 3 3 3 3 0 2 3 3 2 2 4 5 4 2 3 2 2 1 2 1 3 2 3 3 1 4 4 3 2 2 2 2 2 1 4\n",
            " 4 3 3 2 1 2 3 1 3 5 2 2 3 3 2 3 3 2 1 2 2 3 2 3 2 3 3 3 3 2 3 4 3 5 5 1 0\n",
            " 1 4 4 2 2 3 2 2 3 3 3 3 0 2 2 2 2 3 2 1 2 4 0 1 2 3 5 5 5 1 3 3 1 4 2 5 3\n",
            " 1 2 2 2 3 3 2 2 3 2 2 2 2 2 2 4 3 3 2 2 3 3 1 1 2 1 4 4 3 2 1 5 3 4 2 2 2\n",
            " 4 2 3 3 2 1 3 4 4 2 3 3 4 1 2 2 3 2 4 4 1 2 5 1 2 4 3 2 3 2 3 4 3 2 2 2 3\n",
            " 1 3 3 4 3 2 2 4 2 2 5 0 3 0 2 1 1 1 1 3 2 4 2 2 3 4 3 3 3 3 4 4 4 2 4 2 3\n",
            " 2 2 3 2 4 4 3 2 3 1 3 4 3 2 4 3 1 2 3 1 3 5 2 3 1 2 4 3 3 4 1 0 2 3 2 3 4\n",
            " 2 2 2 1 0 3 2 3 2 1 2 2 3 0 1 3 3 3 2 2 4 2 2 1 1 1 3 3 2 3 1 4 1 1 2 3 4\n",
            " 2 1 3 3 3 4 2 2 3 3 3 2 3 4 5 2 3 3 2 1 0 1 2 4 2 3 3 1 3 4 4 3 3 3 2 5 1\n",
            " 4 2 3 3 3 3 1 2 1 0 4 2 1 2 2 3 2 3 1 3 1 3 3 2 2 1 3 0 3 3 1 4 3 3 2 3 1\n",
            " 3 3 4 3 3 2 3 3 4 4 0 3 3 4 2 3 4 3 1 3 0 2 3 3 1 2 4 0 3 1 2 3 1 2 2 3 3\n",
            " 2 3 3 3 1 5 1 5 1 1 3 4 3 3 1 1 1 1 5 3 2 2 2 1 1 4 2 1 2 4 2 3 5 0 1 3 4\n",
            " 2 1 1 1 2 4 4 1 4 3 3 4 2 3 2 3 2 3 2 3 1 3 2 1 3 2 3 3 2 3 2 4 2 1 4 4 2\n",
            " 2 1 2 1 4 3 3 2 1 2 2 4 1 2 0 3 3 1 3 1 3 2 2 1 1 1 2 3 4 3 2 3 2 3 4 1 3\n",
            " 2 3 4 2 1 3 1 3 3 0 2 2 0 2 3 0 1 4 2 2 3 3 4 2 2 2 1 2 3 2 2 4 5 2 2 4 1\n",
            " 3 4 3 4 1 3 4 3 2 2 4 2 3 3 4 4 2 1 3 5 2 4 2 3 2 2 3 3 3 4 2 4 2 1 2 3 2\n",
            " 3 2 2 1 2 4 4 4 2 5 2 4 2 2 3 3 3 3 4 3 2 4 1 3 2 3 3 2 4 2 3 3 3 3 5 2 3\n",
            " 4 3 4 3 2 4 2 4 4 3 3 2 2 3 2 2 2 3 2 3 2 3 2 3 4 1 3 3 5 1 3 2 5 2 1 5 2\n",
            " 2 3 4 2 0 4 3 3 1 3 3 4 3 3 4 2 2 1 2 3 2 1 3 4 2 3 3 3 4 2 3 1 3 2 2 3 2\n",
            " 3 3 4 2 3 2 3 2 1 2 3 2 3 1 3 1 1 3 2 2 3 4 3 3 3 2 3 2 4 2 1 2 2 2 3 2 4\n",
            " 3 2 3 2 2 3 2 2 2 1 2 4 4 3 2 3 2 3 3 2 3 4 4 4 4 1 1 5 1 4 2 2 3 2 2 1 4\n",
            " 2 3 2 2 3 4 3 1 2 1 5 1 2 2 2 2 3 5 3 2 3 3 1 2 2 2 1 3 3 4 3 1 3 3 3 0 0\n",
            " 1 2 1 2 2 4 2 4 2 1 3 3 3 2 3 4 1 2 3 2 3 2 1 2 3 5 2 2 3 3 1 3 2 3 2 2 1\n",
            " 2 3 3 5 3 2 2 4 1 3 4 3 3 3 1 3 1 3 2 2 1 3 2 3 2 2 2 2 1 3 1 4 2 2 1 3 2\n",
            " 1 3 2 3 3 0 3 2 5 4 3 3 1 3 3 1 2 5 1 3 1 2 3 1 2 4 3 3 4 4 1 2 1 4 4 5 4\n",
            " 1 4 0 3 3 4 2 3 1 3 2 2 5 1 2 3 1 4 3 2 3 3 3 2 1 0 1 2 3 4 4 4 2 3 2 1 1\n",
            " 3]\n"
          ]
        },
        {
          "output_type": "stream",
          "name": "stderr",
          "text": [
            "/usr/local/lib/python3.7/dist-packages/seaborn/distributions.py:2619: FutureWarning: `distplot` is a deprecated function and will be removed in a future version. Please adapt your code to use either `displot` (a figure-level function with similar flexibility) or `histplot` (an axes-level function for histograms).\n",
            "  warnings.warn(msg, FutureWarning)\n"
          ]
        },
        {
          "output_type": "execute_result",
          "data": {
            "text/plain": [
              "<matplotlib.collections.LineCollection at 0x7f10ad1a7650>"
            ]
          },
          "metadata": {},
          "execution_count": 2
        },
        {
          "output_type": "display_data",
          "data": {
            "text/plain": [
              "<Figure size 432x288 with 1 Axes>"
            ],
            "image/png": "[encoded data removed]"
          },
          "metadata": {
            "needs_background": "light"
          }
        },
        {
          "output_type": "display_data",
          "data": {
            "text/plain": [
              "<Figure size 576x432 with 1 Axes>"
            ],
            "image/png": "[encoded data removed]"
          },
          "metadata": {
            "needs_background": "light"
          }
        }
      ]
    },
    {
      "cell_type": "markdown",
      "source": [
        "# **Bernoulli distribution**"
      ],
      "metadata": {
        "id": "75mWXHCeoOON"
      }
    },
    {
      "cell_type": "code",
      "source": [
        "#Bernoulli\n",
        "from scipy.stats import bernoulli\n",
        "data_bern = bernoulli.rvs(size=5000,p=0.7)\n",
        "print(data_bern)\n",
        "x= sns.distplot(data_bern,\n",
        "                kde=False,\n",
        "                color=\"skyblue\",\n",
        "                hist_kws={\"linewidth\": 15,'alpha':1})\n",
        "ax.set(xlabel='Bernoulli Distribution', ylabel='Frequency')"
      ],
      "metadata": {
        "colab": {
          "base_uri": "https://localhost:8080/",
          "height": 372
        },
        "id": "CWUAT4IFoEM0",
        "outputId": "bfba80ab-d5a9-408d-f495-065490d9ab50"
      },
      "execution_count": 3,
      "outputs": [
        {
          "output_type": "stream",
          "name": "stdout",
          "text": [
            "[1 0 1 ... 1 0 1]\n"
          ]
        },
        {
          "output_type": "stream",
          "name": "stderr",
          "text": [
            "/usr/local/lib/python3.7/dist-packages/seaborn/distributions.py:2619: FutureWarning: `distplot` is a deprecated function and will be removed in a future version. Please adapt your code to use either `displot` (a figure-level function with similar flexibility) or `histplot` (an axes-level function for histograms).\n",
            "  warnings.warn(msg, FutureWarning)\n"
          ]
        },
        {
          "output_type": "execute_result",
          "data": {
            "text/plain": [
              "[Text(25.200000000000003, 0.5, 'Frequency'),\n",
              " Text(0.5, 25.200000000000003, 'Bernoulli Distribution')]"
            ]
          },
          "metadata": {},
          "execution_count": 3
        },
        {
          "output_type": "display_data",
          "data": {
            "text/plain": [
              "<Figure size 432x288 with 1 Axes>"
            ],
            "image/png": "[encoded data removed]"
          },
          "metadata": {
            "needs_background": "light"
          }
        }
      ]
    },
    {
      "cell_type": "markdown",
      "source": [
        "# **geometric distribution**"
      ],
      "metadata": {
        "id": "-RKFEKHxoWkz"
      }
    },
    {
      "cell_type": "code",
      "source": [
        "#geometric distribution\n",
        "from scipy.stats import geom\n",
        "import matplotlib.pyplot as plt\n",
        "#\n",
        "# X = Discrete random variable representing number of throws\n",
        "# p = Probability of the perfect throw\n",
        "#\n",
        "X = [1, 2, 3, 4, 5, 6, 7, 8, 9, 10]\n",
        "p = 0.6\n",
        "#\n",
        "# Calculate geometric probability distribution\n",
        "#\n",
        "geom_pd = geom.pmf(X, p)\n",
        "ax = sns.distplot(geom_pd,\n",
        "                 kde=True,\n",
        "                 color='skyblue',\n",
        "                 hist_kws={\"linewidth\": 10,'alpha':1})\n",
        "ax.set(xlabel='no.of throws', ylabel='probability')\n"
      ],
      "metadata": {
        "colab": {
          "base_uri": "https://localhost:8080/",
          "height": 351
        },
        "id": "PY91dmkloFjD",
        "outputId": "b01d5b6a-62b2-4a79-baaa-043b1c4556ae"
      },
      "execution_count": 4,
      "outputs": [
        {
          "output_type": "stream",
          "name": "stderr",
          "text": [
            "/usr/local/lib/python3.7/dist-packages/seaborn/distributions.py:2619: FutureWarning: `distplot` is a deprecated function and will be removed in a future version. Please adapt your code to use either `displot` (a figure-level function with similar flexibility) or `histplot` (an axes-level function for histograms).\n",
            "  warnings.warn(msg, FutureWarning)\n"
          ]
        },
        {
          "output_type": "execute_result",
          "data": {
            "text/plain": [
              "[Text(0, 0.5, 'probability'), Text(0.5, 0, 'no.of throws')]"
            ]
          },
          "metadata": {},
          "execution_count": 4
        },
        {
          "output_type": "display_data",
          "data": {
            "text/plain": [
              "<Figure size 432x288 with 1 Axes>"
            ],
            "image/png": "[encoded data removed]"
          },
          "metadata": {
            "needs_background": "light"
          }
        }
      ]
    },
    {
      "cell_type": "markdown",
      "source": [
        "# **uniform distribution**"
      ],
      "metadata": {
        "id": "sNpyaWOeq0n1"
      }
    },
    {
      "cell_type": "code",
      "source": [
        "#Uniform or rectangular\n",
        "from scipy.stats import uniform\n",
        "# random numbers from uniform distribution\n",
        "#This distribution is constant between loc and loc + scale.\n",
        "#The size arguments describe the number of random variates.\n",
        "n = 1000\n",
        "start = 1\n",
        "width = 5\n",
        "data_uniform = uniform.rvs(size=n, loc = start, scale=width)\n",
        "print(data_uniform)\n",
        "ax = sns.distplot(data_uniform,\n",
        "                 bins=100,\n",
        "                 kde=True,\n",
        "                 color='skyblue',\n",
        "                 hist_kws={\"linewidth\": 15,'alpha':1})\n",
        "ax.set(xlabel='Uniform Distribution ', ylabel='Frequency', )\n"
      ],
      "metadata": {
        "colab": {
          "base_uri": "https://localhost:8080/",
          "height": 1000
        },
        "id": "h6vZYEfaodHd",
        "outputId": "9692b83a-5587-424e-f8da-74938d3e3a86"
      },
      "execution_count": 5,
      "outputs": [
        {
          "output_type": "stream",
          "name": "stdout",
          "text": [
            "[4.40256108 3.52422293 1.23917352 1.66692958 2.94913101 2.82192065\n",
            " 4.95980622 3.5678958  5.9463222  5.79469329 3.11843006 3.66898915\n",
            " 1.38436306 2.65831923 2.3753458  3.52896196 5.83631596 1.90118065\n",
            " 1.65022707 4.86826786 4.30331831 1.30128223 5.82481231 5.35436836\n",
            " 1.8576217  3.21899821 5.77693345 3.51689626 3.25899992 5.8163094\n",
            " 2.03218818 5.90912041 1.81141343 2.7251303  2.65295021 2.70555089\n",
            " 3.22545487 1.45271671 5.37190992 2.4026725  4.28988256 3.1494845\n",
            " 2.78394189 3.75870561 2.58420664 5.7474747  5.48774349 4.9614886\n",
            " 4.97994051 2.03586655 3.39697436 2.86148079 1.35711264 3.63428855\n",
            " 2.24945597 4.68083731 4.07683613 4.73984143 5.46168871 4.52504092\n",
            " 4.97954368 5.36198349 4.39604476 4.5239238  1.46810272 5.93262171\n",
            " 1.69431485 3.3948578  1.56589042 5.61139053 3.13600234 4.00792182\n",
            " 3.18257719 3.83106827 5.79333049 4.46310644 2.14024942 3.85810289\n",
            " 3.64242317 4.35024491 3.65318524 3.25457961 2.80231785 5.71256011\n",
            " 5.08625903 5.95739736 5.15194749 4.44486458 4.01864252 1.33420951\n",
            " 1.73323381 1.92734687 2.75360792 3.30612043 1.92854088 5.17274154\n",
            " 1.35985506 3.73847242 2.18580014 5.07675138 4.19226904 1.97494838\n",
            " 5.92264801 3.19273772 3.80717369 1.28069773 3.36358403 5.60688596\n",
            " 3.52490713 3.12184923 2.88071042 5.21186366 1.86633381 3.01008148\n",
            " 1.77744994 5.91884151 1.97237235 2.30730504 4.56359794 2.74658983\n",
            " 5.50406293 2.85929343 1.97362238 1.4454407  2.06564147 4.21408945\n",
            " 4.95812461 1.77808466 4.094537   2.13981339 4.42196521 1.0162636\n",
            " 1.89720525 4.34930169 3.49607722 2.72175215 2.5527533  3.17516844\n",
            " 4.77276147 3.46607173 5.68066173 1.67308643 5.05589848 4.7988062\n",
            " 5.45228434 1.08341148 5.70218978 4.70801561 5.88936893 2.74531411\n",
            " 2.79352961 2.98168299 4.80703534 1.72229456 1.80835736 5.97258886\n",
            " 1.79124265 3.00167157 3.0324993  4.51963397 4.23189332 4.99873117\n",
            " 4.82252442 2.33888736 5.41964605 4.16706344 3.95295659 4.66549919\n",
            " 2.8608751  1.77675343 5.95359202 3.55975893 5.536811   2.24481445\n",
            " 1.61495384 4.57489865 5.04990695 3.68026076 2.5040015  5.70819945\n",
            " 5.41753407 1.16499408 3.69633237 5.68796677 3.87863755 4.58352599\n",
            " 1.89820143 5.02042541 3.95313086 1.53468253 2.8250548  5.75074897\n",
            " 4.39134062 4.13185022 4.90390428 3.43151816 3.89537868 3.69809684\n",
            " 1.47241005 5.65946036 4.15440717 3.37825743 1.43291564 5.09940688\n",
            " 3.94854462 5.11624912 4.23351906 4.50767677 1.59669441 4.59573293\n",
            " 2.53228416 3.66386697 2.51252841 3.35069151 3.93538354 5.80765545\n",
            " 3.40494341 1.31276079 4.30079539 1.93303422 5.62395294 5.78358377\n",
            " 5.39326166 5.55830779 5.5511296  5.64632292 1.87054308 3.16538692\n",
            " 5.4565896  2.77549073 2.02717215 5.92139227 2.68336163 4.30023049\n",
            " 4.49459014 4.15356297 4.08167118 5.87838703 1.00286726 1.4161771\n",
            " 5.33946338 1.94074869 4.70544199 5.88096644 4.75334153 1.08354166\n",
            " 1.10272971 2.98337042 4.24723988 5.16291659 4.25498178 3.83036907\n",
            " 5.04290028 1.58049201 4.87960481 4.77790957 5.29965837 2.4260482\n",
            " 5.22685073 2.21860106 4.46137223 2.47716797 4.27223968 1.12915298\n",
            " 5.96091377 4.07409984 5.41619722 4.87218104 2.2623631  3.80358392\n",
            " 2.91907622 5.08208089 2.29672644 4.81176991 4.63853916 2.32353882\n",
            " 5.68123049 4.7879015  3.66809727 3.87490082 1.89996309 1.29201373\n",
            " 5.92878511 5.79463803 3.07842014 4.93601655 3.33609123 2.06539933\n",
            " 2.42938026 3.53996311 3.58725908 4.63379876 3.74489387 3.85473316\n",
            " 3.67233515 4.43201152 4.57025539 3.82133513 5.58016127 4.39387266\n",
            " 5.53471429 5.37264623 2.14101223 3.15582391 4.11927098 5.72575134\n",
            " 4.49069491 3.44164685 4.783889   1.05774046 1.85494516 4.52553298\n",
            " 5.95015176 1.26810914 3.9623427  4.66226952 3.35838473 4.08092425\n",
            " 5.4453278  3.26377377 2.62849802 5.25044717 4.04293876 1.32721313\n",
            " 3.3741762  4.59764333 1.20495115 3.68493712 3.04453812 2.01884085\n",
            " 1.44005443 5.2101373  4.82494963 1.63891999 3.87030029 5.73565115\n",
            " 2.33878772 4.31312564 5.85242016 1.55978973 5.07310453 5.50996121\n",
            " 3.30512429 4.2591633  5.82291317 2.32879047 5.00058561 2.96582685\n",
            " 1.91809499 5.20010346 3.72822584 5.3561044  1.18451084 2.29109678\n",
            " 5.60921513 5.77012977 5.77709876 3.81897843 1.86954992 2.1922255\n",
            " 4.88933471 2.95280023 4.53231132 4.00199734 1.13167353 4.78190762\n",
            " 2.22888663 1.52075701 2.14907261 2.10607937 5.52556074 2.45022591\n",
            " 5.29861315 1.87914958 2.98682576 4.57567505 4.05922348 4.75251195\n",
            " 3.77291478 3.77313878 3.91625681 4.12142089 1.08709714 1.87879208\n",
            " 5.20789231 3.35014862 1.29159006 3.28773351 2.37178216 5.28907468\n",
            " 5.57208791 3.50365539 2.89924704 4.68599258 1.66018429 3.86799708\n",
            " 4.6677423  4.66954511 5.81689805 1.13533337 3.70882816 5.19953685\n",
            " 1.76267912 2.32163266 1.75608722 1.37247118 2.77710523 1.02718713\n",
            " 2.51114758 1.15821578 2.4267598  1.38831903 2.14004342 5.08957781\n",
            " 2.62208253 4.23708606 1.5211109  3.30172006 1.71343507 3.66334515\n",
            " 4.14098705 2.24727628 1.95664956 4.77245769 4.56731006 2.38684636\n",
            " 3.2423781  5.80798266 2.27260155 1.44700642 3.68066209 5.32208306\n",
            " 3.44642057 1.03820381 4.47724064 2.22059522 4.21156014 3.59618852\n",
            " 1.1615098  1.55214651 5.21197009 2.21440513 2.11555783 3.81832353\n",
            " 1.83194102 4.06444131 3.20947911 1.46927848 5.05942128 2.16815754\n",
            " 2.74155049 2.9544341  5.61902338 3.68500195 3.61270118 1.51776896\n",
            " 4.76483516 4.7345453  1.49420842 5.33918561 5.69946642 2.8669477\n",
            " 5.45084038 4.93993023 2.89790816 2.55390232 3.64854698 2.18612052\n",
            " 4.38164956 4.06628477 2.48338108 5.38936161 2.81496437 1.689772\n",
            " 4.30942718 1.09252597 5.74739192 1.82092892 5.8167602  2.67682454\n",
            " 1.64361804 2.41910359 4.31783482 5.28873787 1.31862634 5.71057979\n",
            " 5.75806266 2.27179252 5.97142714 2.77675749 3.26597123 3.10211726\n",
            " 4.22614824 5.20130505 2.62119777 5.13917412 2.58682093 1.55278004\n",
            " 4.33637647 5.5171471  3.46205919 1.748002   5.03771432 5.57332517\n",
            " 4.79542815 2.64533451 2.40772017 3.47973192 4.01003159 5.91994708\n",
            " 1.20078377 1.71587983 3.60519952 3.97193759 5.50167848 3.89292433\n",
            " 4.95794677 4.8119178  1.37056451 3.84865809 5.87818607 5.37473739\n",
            " 3.70528281 3.3675654  3.96525504 2.74546147 5.53580724 2.1698504\n",
            " 5.89069141 4.23649818 3.19376989 2.90984331 2.48911369 5.07209039\n",
            " 3.27853552 4.52286088 5.43800328 1.00003031 1.33584327 2.01764154\n",
            " 3.07554679 3.89256748 5.83179153 5.45603656 1.23465247 5.54221203\n",
            " 3.98140273 5.69023716 3.07619395 1.1725217  5.48400795 2.82000402\n",
            " 3.13886431 1.00382826 2.11565388 3.54669036 1.97219202 1.809814\n",
            " 4.91566881 1.98946129 2.39211237 5.43234211 4.44338235 5.83454607\n",
            " 5.92605412 3.44022198 3.84835662 2.58561379 2.52257874 2.44573878\n",
            " 5.54960922 2.3014238  4.19865401 5.35130876 3.86897423 2.2940532\n",
            " 5.34596266 2.51372615 3.56159715 3.89639246 4.94698987 4.01538335\n",
            " 1.24870965 3.33529385 1.40417659 1.77264536 1.41373689 3.49464525\n",
            " 4.7735626  2.55554614 2.78618665 1.62200252 1.55704567 3.41596674\n",
            " 5.49550243 1.8307542  5.99593507 4.58808554 5.84079398 1.42852251\n",
            " 4.49131321 5.60136651 4.43726759 3.83681208 3.93834602 2.18596033\n",
            " 5.99665803 3.59429617 5.49655315 2.05786297 3.59133195 3.92971203\n",
            " 4.79288882 4.63239016 5.99194959 2.72160016 2.85884924 5.12152527\n",
            " 1.77076732 4.47175541 5.46717216 2.15842037 3.8193582  3.92808591\n",
            " 2.64217752 1.49729257 5.13791839 1.81063713 1.18963403 2.49152078\n",
            " 3.43365066 5.69976784 1.55828103 3.228709   4.39304457 4.14526856\n",
            " 2.73465153 5.06939097 2.4911835  1.50784498 2.41949885 5.84733363\n",
            " 1.07507424 2.29444831 5.94675269 4.94396965 4.34711427 1.15992629\n",
            " 4.02738923 1.14472571 1.63073905 2.05381529 1.77132248 2.38317456\n",
            " 3.03227063 4.62604879 5.61396193 4.64910325 2.14314416 5.08024686\n",
            " 4.24342376 1.78321478 3.29356907 5.96441595 4.07003989 2.9107181\n",
            " 2.76093793 2.85695195 2.52467352 5.94456164 2.67970588 1.55790512\n",
            " 4.5212633  2.48059341 5.91056318 4.45225156 2.80446946 3.06256693\n",
            " 1.50779193 1.98487134 3.07868925 5.53940515 1.03449185 1.52664832\n",
            " 5.50038586 1.00061795 5.26730715 5.33411801 5.64137178 2.93499014\n",
            " 4.28686284 3.97742482 3.29749752 5.58674129 2.13524781 1.70366591\n",
            " 1.2853978  1.9337987  3.45836135 5.84147694 5.76487283 4.76092491\n",
            " 4.22354323 5.97640148 3.77791409 1.19115788 4.82109481 4.92913\n",
            " 3.43535017 1.13249421 4.13409663 4.89044258 5.83253264 1.27818139\n",
            " 2.59279751 5.23832267 3.68097443 3.55583288 5.27780157 2.23268948\n",
            " 4.71849006 2.84678199 2.80161617 3.6053049  1.08642644 2.3248742\n",
            " 4.42054482 1.95620784 2.74236007 4.67536749 3.4332626  1.29602606\n",
            " 1.98965644 1.08019632 2.10972722 2.439035   5.56934387 5.80990329\n",
            " 2.37344237 1.32386025 1.62024674 5.20720078 5.00460226 4.07120675\n",
            " 5.40263865 3.04100164 2.4056619  2.18337978 3.9141012  5.60722422\n",
            " 5.0260247  5.51075089 3.09062288 5.26364278 4.67678605 2.94624028\n",
            " 2.77686277 3.89912311 1.922044   4.89709165 4.88282496 1.35493311\n",
            " 4.00462852 1.75293969 4.76848758 1.07757026 1.38061291 4.74460738\n",
            " 1.985947   3.90500456 5.20067306 2.18127934 2.58201923 1.83843101\n",
            " 3.40795641 3.04158144 5.60057886 3.12785416 5.53563679 3.52760377\n",
            " 3.6059189  1.6975447  1.93091412 5.5186089  1.89263708 3.2123138\n",
            " 5.32836503 2.47540782 5.54380528 4.78209326 1.10422997 4.61783322\n",
            " 4.43346521 1.97230219 4.04392439 3.66116561 4.4100475  5.68171938\n",
            " 2.68597529 2.97280258 2.8077018  4.99345349 3.45645    3.33907474\n",
            " 3.72533067 2.07777686 1.79143489 4.4940942  4.31953841 5.36036875\n",
            " 5.71669752 3.45136784 5.10902287 2.84230659 2.71617541 1.88562674\n",
            " 4.76224609 2.85979662 2.55564527 3.43690564 5.95014002 2.21776327\n",
            " 5.62398166 1.05878948 3.74629633 3.7614411  2.89415193 4.388446\n",
            " 4.65872596 1.70490409 3.67456243 1.37278611 2.10419825 1.3444859\n",
            " 4.64080634 2.78053201 3.09998669 2.08018899 4.45870074 3.44089438\n",
            " 4.3901745  4.0131477  5.41764148 1.2482237  2.85659927 2.76263974\n",
            " 2.22600341 4.17466632 4.03624114 5.91181865 5.89555466 1.80483026\n",
            " 1.30654474 5.26967772 1.82253359 4.89937999 4.54222726 3.25472111\n",
            " 3.65509375 5.47333562 5.54244315 1.30477809 2.89799315 5.46781558\n",
            " 2.24467893 5.77513441 2.56338551 1.79443728 2.78303792 1.74432988\n",
            " 3.65880319 4.36088995 2.60774812 4.7544354  5.44441036 1.40408297\n",
            " 3.7163666  5.72499415 2.54374198 1.97572008 2.42835914 1.31394658\n",
            " 3.89863629 5.09131454 3.19561186 5.70073625 4.14480833 4.89406672\n",
            " 3.31282736 1.03608624 2.10666072 2.98153272 5.84485676 1.57516885\n",
            " 2.63574888 1.57830362 4.73141407 2.69150403 5.87482474 1.14619148\n",
            " 1.42632081 4.62153224 5.60084156 1.46443504 5.32756727 3.0542405\n",
            " 5.83820838 3.99930425 4.99259453 1.43353419 3.95105063 4.47448041\n",
            " 4.20650671 5.42991859 4.02974931 4.44431153 4.48364166 4.36774266\n",
            " 5.91313649 2.07372941 5.55064502 2.65729374 3.196545   3.20182867\n",
            " 1.5844854  4.51747575 1.08977768 1.46957992 3.56027064 2.0810857\n",
            " 1.10315669 4.64415781 1.7761734  2.46734605 3.12802439 1.15605514\n",
            " 5.04499808 5.26310642 4.16229686 3.2668948  1.33235458 3.7867739\n",
            " 5.4854129  1.85795749 3.00883658 3.69380781 5.43203014 4.32269741\n",
            " 5.08737983 2.86721086 5.19066035 3.33137261 4.36623001 2.64791362\n",
            " 4.74773508 2.67268431 3.4632029  2.10831543 4.35439238 1.26069212\n",
            " 2.72097116 2.12598851 5.51299692 3.20052806 3.13627005 1.21473047\n",
            " 1.72619128 3.62942386 2.57006066 1.24047029 2.83617109 2.14281602\n",
            " 4.87525757 3.78148637 4.73709985 1.51300847 3.01861087 1.22099859\n",
            " 3.4290634  4.58912238 5.46968736 4.05616756 2.28554492 5.67168846\n",
            " 1.97121848 2.72384519 4.13052016 3.0552406  4.56787628 2.36960049\n",
            " 4.86491042 5.27894794 5.38077856 4.82910849 1.72041801 3.97650212\n",
            " 3.81774299 4.45793898 5.86447827 2.57189562]\n"
          ]
        },
        {
          "output_type": "stream",
          "name": "stderr",
          "text": [
            "/usr/local/lib/python3.7/dist-packages/seaborn/distributions.py:2619: FutureWarning: `distplot` is a deprecated function and will be removed in a future version. Please adapt your code to use either `displot` (a figure-level function with similar flexibility) or `histplot` (an axes-level function for histograms).\n",
            "  warnings.warn(msg, FutureWarning)\n"
          ]
        },
        {
          "output_type": "execute_result",
          "data": {
            "text/plain": [
              "[Text(0, 0.5, 'Frequency'), Text(0.5, 0, 'Uniform Distribution ')]"
            ]
          },
          "metadata": {},
          "execution_count": 5
        },
        {
          "output_type": "display_data",
          "data": {
            "text/plain": [
              "<Figure size 432x288 with 1 Axes>"
            ],
            "image/png": "[encoded data removed]"
          },
          "metadata": {
            "needs_background": "light"
          }
        }
      ]
    },
    {
      "cell_type": "markdown",
      "source": [
        "# **normaldistribution**"
      ],
      "metadata": {
        "id": "Eq5D723K5bXL"
      }
    },
    {
      "cell_type": "code",
      "source": [
        "#normaldistribution\n",
        "from scipy.stats import norm\n",
        "# generate random numbers from N(0,1)\n",
        "data_normal = norm.rvs(size=1000,loc=1,scale=2)\n",
        "#The loc argument corresponds to the mean of the distribution.\n",
        "#scale corresponds to standard deviation\n",
        "#size to the number of random variates.\n",
        " \n",
        " \n",
        " \n",
        "ax = sns.distplot(data_normal,\n",
        "                 bins=100,\n",
        "                 kde=True,\n",
        "                 color='skyblue',\n",
        "                 hist_kws={\"linewidth\": 15,'alpha':1})\n",
        "ax.set(xlabel='Normal Distribution', ylabel='Frequency')"
      ],
      "metadata": {
        "colab": {
          "base_uri": "https://localhost:8080/",
          "height": 351
        },
        "id": "06NEDwccrmh5",
        "outputId": "e7fc3513-44a9-443a-92ea-aedaa3108836"
      },
      "execution_count": 6,
      "outputs": [
        {
          "output_type": "stream",
          "name": "stderr",
          "text": [
            "/usr/local/lib/python3.7/dist-packages/seaborn/distributions.py:2619: FutureWarning: `distplot` is a deprecated function and will be removed in a future version. Please adapt your code to use either `displot` (a figure-level function with similar flexibility) or `histplot` (an axes-level function for histograms).\n",
            "  warnings.warn(msg, FutureWarning)\n"
          ]
        },
        {
          "output_type": "execute_result",
          "data": {
            "text/plain": [
              "[Text(0, 0.5, 'Frequency'), Text(0.5, 0, 'Normal Distribution')]"
            ]
          },
          "metadata": {},
          "execution_count": 6
        },
        {
          "output_type": "display_data",
          "data": {
            "text/plain": [
              "<Figure size 432x288 with 1 Axes>"
            ],
            "image/png": "[encoded data removed]"
          },
          "metadata": {
            "needs_background": "light"
          }
        }
      ]
    },
    {
      "cell_type": "code",
      "source": [
        " \n",
        "#exponential\n",
        "from scipy.stats import expon\n",
        "data_expon = expon.rvs(scale=1,loc=11,size=1000)\n",
        "#takes shape parameter scale as its argument\n",
        "# which is nothing but 1/lambda in the equation\n",
        "#To shift distribution use the loc argument,\n",
        "#size decides the number of random variates in the distribution\n",
        "ax = sns.distplot(data_expon,\n",
        "                 kde=True,\n",
        "                 bins=100,\n",
        "                 color='skyblue',\n",
        "                 hist_kws={\"linewidth\": 15,'alpha':1})\n",
        "ax.set(xlabel='Exponential Distribution', ylabel='Frequency')"
      ],
      "metadata": {
        "id": "TBu7NuLnrruI",
        "colab": {
          "base_uri": "https://localhost:8080/",
          "height": 351
        },
        "outputId": "935d3bf7-1499-4e2a-889e-44944a5d3c7e"
      },
      "execution_count": 7,
      "outputs": [
        {
          "output_type": "stream",
          "name": "stderr",
          "text": [
            "/usr/local/lib/python3.7/dist-packages/seaborn/distributions.py:2619: FutureWarning: `distplot` is a deprecated function and will be removed in a future version. Please adapt your code to use either `displot` (a figure-level function with similar flexibility) or `histplot` (an axes-level function for histograms).\n",
            "  warnings.warn(msg, FutureWarning)\n"
          ]
        },
        {
          "output_type": "execute_result",
          "data": {
            "text/plain": [
              "[Text(0, 0.5, 'Frequency'), Text(0.5, 0, 'Exponential Distribution')]"
            ]
          },
          "metadata": {},
          "execution_count": 7
        },
        {
          "output_type": "display_data",
          "data": {
            "text/plain": [
              "<Figure size 432x288 with 1 Axes>"
            ],
            "image/png": "[encoded data removed]"
          },
          "metadata": {
            "needs_background": "light"
          }
        }
      ]
    },
    {
      "cell_type": "code",
      "source": [
        "import pandas as pd\n",
        "df = pd.read_csv(\"https://raw.githubusercontent.com/Prashantkumar8141/Training-Datasets/main/diabetes.csv\")\n",
        "df"
      ],
      "metadata": {
        "colab": {
          "base_uri": "https://localhost:8080/",
          "height": 488
        },
        "id": "uZt27XriCZar",
        "outputId": "4b7a26c5-92b7-4b55-cc13-a6e5ae8bd020"
      },
      "execution_count": 1,
      "outputs": [
        {
          "output_type": "execute_result",
          "data": {
            "text/plain": [
              "     Pregnancies  Glucose  BloodPressure  SkinThickness  Insulin   BMI  \\\n",
              "0              6      148             72             35        0  33.6   \n",
              "1              1       85             66             29        0  26.6   \n",
              "2              8      183             64              0        0  23.3   \n",
              "3              1       89             66             23       94  28.1   \n",
              "4              0      137             40             35      168  43.1   \n",
              "..           ...      ...            ...            ...      ...   ...   \n",
              "763           10      101             76             48      180  32.9   \n",
              "764            2      122             70             27        0  36.8   \n",
              "765            5      121             72             23      112  26.2   \n",
              "766            1      126             60              0        0  30.1   \n",
              "767            1       93             70             31        0  30.4   \n",
              "\n",
              "     DiabetesPedigreeFunction  Age  Outcome  \n",
              "0                       0.627   50        1  \n",
              "1                       0.351   31        0  \n",
              "2                       0.672   32        1  \n",
              "3                       0.167   21        0  \n",
              "4                       2.288   33        1  \n",
              "..                        ...  ...      ...  \n",
              "763                     0.171   63        0  \n",
              "764                     0.340   27        0  \n",
              "765                     0.245   30        0  \n",
              "766                     0.349   47        1  \n",
              "767                     0.315   23        0  \n",
              "\n",
              "[768 rows x 9 columns]"
            ],
            "text/html": [
              "\n",
              "  <div id=\"df-f4c3e8ed-2b56-41dc-8427-b1b8407b5e04\">\n",
              "    <div class=\"colab-df-container\">\n",
              "      <div>\n",
              "<style scoped>\n",
              "    .dataframe tbody tr th:only-of-type {\n",
              "        vertical-align: middle;\n",
              "    }\n",
              "\n",
              "    .dataframe tbody tr th {\n",
              "        vertical-align: top;\n",
              "    }\n",
              "\n",
              "    .dataframe thead th {\n",
              "        text-align: right;\n",
              "    }\n",
              "</style>\n",
              "<table border=\"1\" class=\"dataframe\">\n",
              "  <thead>\n",
              "    <tr style=\"text-align: right;\">\n",
              "      <th></th>\n",
              "      <th>Pregnancies</th>\n",
              "      <th>Glucose</th>\n",
              "      <th>BloodPressure</th>\n",
              "      <th>SkinThickness</th>\n",
              "      <th>Insulin</th>\n",
              "      <th>BMI</th>\n",
              "      <th>DiabetesPedigreeFunction</th>\n",
              "      <th>Age</th>\n",
              "      <th>Outcome</th>\n",
              "    </tr>\n",
              "  </thead>\n",
              "  <tbody>\n",
              "    <tr>\n",
              "      <th>0</th>\n",
              "      <td>6</td>\n",
              "      <td>148</td>\n",
              "      <td>72</td>\n",
              "      <td>35</td>\n",
              "      <td>0</td>\n",
              "      <td>33.6</td>\n",
              "      <td>0.627</td>\n",
              "      <td>50</td>\n",
              "      <td>1</td>\n",
              "    </tr>\n",
              "    <tr>\n",
              "      <th>1</th>\n",
              "      <td>1</td>\n",
              "      <td>85</td>\n",
              "      <td>66</td>\n",
              "      <td>29</td>\n",
              "      <td>0</td>\n",
              "      <td>26.6</td>\n",
              "      <td>0.351</td>\n",
              "      <td>31</td>\n",
              "      <td>0</td>\n",
              "    </tr>\n",
              "    <tr>\n",
              "      <th>2</th>\n",
              "      <td>8</td>\n",
              "      <td>183</td>\n",
              "      <td>64</td>\n",
              "      <td>0</td>\n",
              "      <td>0</td>\n",
              "      <td>23.3</td>\n",
              "      <td>0.672</td>\n",
              "      <td>32</td>\n",
              "      <td>1</td>\n",
              "    </tr>\n",
              "    <tr>\n",
              "      <th>3</th>\n",
              "      <td>1</td>\n",
              "      <td>89</td>\n",
              "      <td>66</td>\n",
              "      <td>23</td>\n",
              "      <td>94</td>\n",
              "      <td>28.1</td>\n",
              "      <td>0.167</td>\n",
              "      <td>21</td>\n",
              "      <td>0</td>\n",
              "    </tr>\n",
              "    <tr>\n",
              "      <th>4</th>\n",
              "      <td>0</td>\n",
              "      <td>137</td>\n",
              "      <td>40</td>\n",
              "      <td>35</td>\n",
              "      <td>168</td>\n",
              "      <td>43.1</td>\n",
              "      <td>2.288</td>\n",
              "      <td>33</td>\n",
              "      <td>1</td>\n",
              "    </tr>\n",
              "    <tr>\n",
              "      <th>...</th>\n",
              "      <td>...</td>\n",
              "      <td>...</td>\n",
              "      <td>...</td>\n",
              "      <td>...</td>\n",
              "      <td>...</td>\n",
              "      <td>...</td>\n",
              "      <td>...</td>\n",
              "      <td>...</td>\n",
              "      <td>...</td>\n",
              "    </tr>\n",
              "    <tr>\n",
              "      <th>763</th>\n",
              "      <td>10</td>\n",
              "      <td>101</td>\n",
              "      <td>76</td>\n",
              "      <td>48</td>\n",
              "      <td>180</td>\n",
              "      <td>32.9</td>\n",
              "      <td>0.171</td>\n",
              "      <td>63</td>\n",
              "      <td>0</td>\n",
              "    </tr>\n",
              "    <tr>\n",
              "      <th>764</th>\n",
              "      <td>2</td>\n",
              "      <td>122</td>\n",
              "      <td>70</td>\n",
              "      <td>27</td>\n",
              "      <td>0</td>\n",
              "      <td>36.8</td>\n",
              "      <td>0.340</td>\n",
              "      <td>27</td>\n",
              "      <td>0</td>\n",
              "    </tr>\n",
              "    <tr>\n",
              "      <th>765</th>\n",
              "      <td>5</td>\n",
              "      <td>121</td>\n",
              "      <td>72</td>\n",
              "      <td>23</td>\n",
              "      <td>112</td>\n",
              "      <td>26.2</td>\n",
              "      <td>0.245</td>\n",
              "      <td>30</td>\n",
              "      <td>0</td>\n",
              "    </tr>\n",
              "    <tr>\n",
              "      <th>766</th>\n",
              "      <td>1</td>\n",
              "      <td>126</td>\n",
              "      <td>60</td>\n",
              "      <td>0</td>\n",
              "      <td>0</td>\n",
              "      <td>30.1</td>\n",
              "      <td>0.349</td>\n",
              "      <td>47</td>\n",
              "      <td>1</td>\n",
              "    </tr>\n",
              "    <tr>\n",
              "      <th>767</th>\n",
              "      <td>1</td>\n",
              "      <td>93</td>\n",
              "      <td>70</td>\n",
              "      <td>31</td>\n",
              "      <td>0</td>\n",
              "      <td>30.4</td>\n",
              "      <td>0.315</td>\n",
              "      <td>23</td>\n",
              "      <td>0</td>\n",
              "    </tr>\n",
              "  </tbody>\n",
              "</table>\n",
              "<p>768 rows × 9 columns</p>\n",
              "</div>\n",
              "      <button class=\"colab-df-convert\" onclick=\"convertToInteractive('df-f4c3e8ed-2b56-41dc-8427-b1b8407b5e04')\"\n",
              "              title=\"Convert this dataframe to an interactive table.\"\n",
              "              style=\"display:none;\">\n",
              "        \n",
              "  <svg xmlns=\"http://www.w3.org/2000/svg\" height=\"24px\"viewBox=\"0 0 24 24\"\n",
              "       width=\"24px\">\n",
              "    <path d=\"M0 0h24v24H0V0z\" fill=\"none\"/>\n",
              "    <path d=\"M18.56 5.44l.94 2.06.94-2.06 2.06-.94-2.06-.94-.94-2.06-.94 2.06-2.06.94zm-11 1L8.5 8.5l.94-2.06 2.06-.94-2.06-.94L8.5 2.5l-.94 2.06-2.06.94zm10 10l.94 2.06.94-2.06 2.06-.94-2.06-.94-.94-2.06-.94 2.06-2.06.94z\"/><path d=\"M17.41 7.96l-1.37-1.37c-.4-.4-.92-.59-1.43-.59-.52 0-1.04.2-1.43.59L10.3 9.45l-7.72 7.72c-.78.78-.78 2.05 0 2.83L4 21.41c.39.39.9.59 1.41.59.51 0 1.02-.2 1.41-.59l7.78-7.78 2.81-2.81c.8-.78.8-2.07 0-2.86zM5.41 20L4 18.59l7.72-7.72 1.47 1.35L5.41 20z\"/>\n",
              "  </svg>\n",
              "      </button>\n",
              "      \n",
              "  <style>\n",
              "    .colab-df-container {\n",
              "      display:flex;\n",
              "      flex-wrap:wrap;\n",
              "      gap: 12px;\n",
              "    }\n",
              "\n",
              "    .colab-df-convert {\n",
              "      background-color: #E8F0FE;\n",
              "      border: none;\n",
              "      border-radius: 50%;\n",
              "      cursor: pointer;\n",
              "      display: none;\n",
              "      fill: #1967D2;\n",
              "      height: 32px;\n",
              "      padding: 0 0 0 0;\n",
              "      width: 32px;\n",
              "    }\n",
              "\n",
              "    .colab-df-convert:hover {\n",
              "      background-color: #E2EBFA;\n",
              "      box-shadow: 0px 1px 2px rgba(60, 64, 67, 0.3), 0px 1px 3px 1px rgba(60, 64, 67, 0.15);\n",
              "      fill: #174EA6;\n",
              "    }\n",
              "\n",
              "    [theme=dark] .colab-df-convert {\n",
              "      background-color: #3B4455;\n",
              "      fill: #D2E3FC;\n",
              "    }\n",
              "\n",
              "    [theme=dark] .colab-df-convert:hover {\n",
              "      background-color: #434B5C;\n",
              "      box-shadow: 0px 1px 3px 1px rgba(0, 0, 0, 0.15);\n",
              "      filter: drop-shadow(0px 1px 2px rgba(0, 0, 0, 0.3));\n",
              "      fill: #FFFFFF;\n",
              "    }\n",
              "  </style>\n",
              "\n",
              "      <script>\n",
              "        const buttonEl =\n",
              "          document.querySelector('#df-f4c3e8ed-2b56-41dc-8427-b1b8407b5e04 button.colab-df-convert');\n",
              "        buttonEl.style.display =\n",
              "          google.colab.kernel.accessAllowed ? 'block' : 'none';\n",
              "\n",
              "        async function convertToInteractive(key) {\n",
              "          const element = document.querySelector('#df-f4c3e8ed-2b56-41dc-8427-b1b8407b5e04');\n",
              "          const dataTable =\n",
              "            await google.colab.kernel.invokeFunction('convertToInteractive',\n",
              "                                                     [key], {});\n",
              "          if (!dataTable) return;\n",
              "\n",
              "          const docLinkHtml = 'Like what you see? Visit the ' +\n",
              "            '<a target=\"_blank\" href=https://colab.research.google.com/notebooks/data_table.ipynb>data table notebook</a>'\n",
              "            + ' to learn more about interactive tables.';\n",
              "          element.innerHTML = '';\n",
              "          dataTable['output_type'] = 'display_data';\n",
              "          await google.colab.output.renderOutput(dataTable, element);\n",
              "          const docLink = document.createElement('div');\n",
              "          docLink.innerHTML = docLinkHtml;\n",
              "          element.appendChild(docLink);\n",
              "        }\n",
              "      </script>\n",
              "    </div>\n",
              "  </div>\n",
              "  "
            ]
          },
          "metadata": {},
          "execution_count": 1
        }
      ]
    },
    {
      "cell_type": "code",
      "source": [
        "df[\"BloodPressure\"].hist(bins=100)"
      ],
      "metadata": {
        "colab": {
          "base_uri": "https://localhost:8080/",
          "height": 282
        },
        "id": "HAN1KLC1DF0K",
        "outputId": "27b204a5-ae64-429d-9361-5f8ceb218700"
      },
      "execution_count": 2,
      "outputs": [
        {
          "output_type": "execute_result",
          "data": {
            "text/plain": [
              "<matplotlib.axes._subplots.AxesSubplot at 0x7fa2f722b850>"
            ]
          },
          "metadata": {},
          "execution_count": 2
        },
        {
          "output_type": "display_data",
          "data": {
            "text/plain": [
              "<Figure size 432x288 with 1 Axes>"
            ],
            "image/png": "[encoded data removed]"
          },
          "metadata": {
            "needs_background": "light"
          }
        }
      ]
    },
    {
      "cell_type": "code",
      "source": [
        "df[\"Glucose\"].hist(bins=100)"
      ],
      "metadata": {
        "colab": {
          "base_uri": "https://localhost:8080/",
          "height": 282
        },
        "id": "2ZXCzKLjDPo6",
        "outputId": "d935a447-87a1-4442-b229-5b96ff9aff90"
      },
      "execution_count": 15,
      "outputs": [
        {
          "output_type": "execute_result",
          "data": {
            "text/plain": [
              "<matplotlib.axes._subplots.AxesSubplot at 0x7f10a8ff8d90>"
            ]
          },
          "metadata": {},
          "execution_count": 15
        },
        {
          "output_type": "display_data",
          "data": {
            "text/plain": [
              "<Figure size 432x288 with 1 Axes>"
            ],
            "image/png": "[encoded data removed]"
          },
          "metadata": {
            "needs_background": "light"
          }
        }
      ]
    },
    {
      "cell_type": "code",
      "source": [
        "df[\"Pregnancies\"].hist(bins=100)"
      ],
      "metadata": {
        "colab": {
          "base_uri": "https://localhost:8080/",
          "height": 284
        },
        "id": "d0-W7hBYFa0Z",
        "outputId": "51b6a33c-b6e7-4870-b909-6ce4306552df"
      },
      "execution_count": 17,
      "outputs": [
        {
          "output_type": "execute_result",
          "data": {
            "text/plain": [
              "<matplotlib.axes._subplots.AxesSubplot at 0x7f10a8e9a750>"
            ]
          },
          "metadata": {},
          "execution_count": 17
        },
        {
          "output_type": "display_data",
          "data": {
            "text/plain": [
              "<Figure size 432x288 with 1 Axes>"
            ],
            "image/png": "[encoded data removed]"
          },
          "metadata": {
            "needs_background": "light"
          }
        }
      ]
    },
    {
      "cell_type": "code",
      "source": [
        "df[\"SkinThickness\"].hist(bins=10)"
      ],
      "metadata": {
        "colab": {
          "base_uri": "https://localhost:8080/",
          "height": 282
        },
        "id": "v8AdpwMGFd5f",
        "outputId": "8a4e767f-648c-4b07-e657-71abb82be9d9"
      },
      "execution_count": 19,
      "outputs": [
        {
          "output_type": "execute_result",
          "data": {
            "text/plain": [
              "<matplotlib.axes._subplots.AxesSubplot at 0x7f10a8ae2a90>"
            ]
          },
          "metadata": {},
          "execution_count": 19
        },
        {
          "output_type": "display_data",
          "data": {
            "text/plain": [
              "<Figure size 432x288 with 1 Axes>"
            ],
            "image/png": "[encoded data removed]"
          },
          "metadata": {
            "needs_background": "light"
          }
        }
      ]
    },
    {
      "cell_type": "code",
      "source": [
        "df[\"Insulin\"].hist(bins=100)"
      ],
      "metadata": {
        "colab": {
          "base_uri": "https://localhost:8080/",
          "height": 282
        },
        "id": "c5CEKLqBFulo",
        "outputId": "7db0f81d-ceb9-48db-f7b3-51e228e79626"
      },
      "execution_count": 22,
      "outputs": [
        {
          "output_type": "execute_result",
          "data": {
            "text/plain": [
              "<matplotlib.axes._subplots.AxesSubplot at 0x7f10a8adb690>"
            ]
          },
          "metadata": {},
          "execution_count": 22
        },
        {
          "output_type": "display_data",
          "data": {
            "text/plain": [
              "<Figure size 432x288 with 1 Axes>"
            ],
            "image/png": "[encoded data removed]"
          },
          "metadata": {
            "needs_background": "light"
          }
        }
      ]
    },
    {
      "cell_type": "code",
      "source": [
        "df[\"BMI\"].hist(bins=100)"
      ],
      "metadata": {
        "colab": {
          "base_uri": "https://localhost:8080/",
          "height": 282
        },
        "id": "gyiVTl0wF7Ax",
        "outputId": "7c5bea97-b69e-443c-d3b9-dbad79b6ede5"
      },
      "execution_count": 23,
      "outputs": [
        {
          "output_type": "execute_result",
          "data": {
            "text/plain": [
              "<matplotlib.axes._subplots.AxesSubplot at 0x7f10a96fc690>"
            ]
          },
          "metadata": {},
          "execution_count": 23
        },
        {
          "output_type": "display_data",
          "data": {
            "text/plain": [
              "<Figure size 432x288 with 1 Axes>"
            ],
            "image/png": "[encoded data removed]"
          },
          "metadata": {
            "needs_background": "light"
          }
        }
      ]
    },
    {
      "cell_type": "code",
      "source": [
        "df[\"DiabetesPedigreeFunction\"].hist(bins=100)"
      ],
      "metadata": {
        "colab": {
          "base_uri": "https://localhost:8080/",
          "height": 282
        },
        "id": "CXgZXOU5GJkj",
        "outputId": "dca0b487-258b-4e40-ca68-996ac17a89bd"
      },
      "execution_count": 24,
      "outputs": [
        {
          "output_type": "execute_result",
          "data": {
            "text/plain": [
              "<matplotlib.axes._subplots.AxesSubplot at 0x7f10a8ac0e10>"
            ]
          },
          "metadata": {},
          "execution_count": 24
        },
        {
          "output_type": "display_data",
          "data": {
            "text/plain": [
              "<Figure size 432x288 with 1 Axes>"
            ],
            "image/png": "[encoded data removed]"
          },
          "metadata": {
            "needs_background": "light"
          }
        }
      ]
    },
    {
      "cell_type": "code",
      "source": [
        "df[\"Age\"].hist(bins=4)"
      ],
      "metadata": {
        "colab": {
          "base_uri": "https://localhost:8080/",
          "height": 282
        },
        "id": "rPotJIYaGXPW",
        "outputId": "d8949ef2-e8c8-4a19-fade-9fa488703008"
      },
      "execution_count": 31,
      "outputs": [
        {
          "output_type": "execute_result",
          "data": {
            "text/plain": [
              "<matplotlib.axes._subplots.AxesSubplot at 0x7f10a7f39dd0>"
            ]
          },
          "metadata": {},
          "execution_count": 31
        },
        {
          "output_type": "display_data",
          "data": {
            "text/plain": [
              "<Figure size 432x288 with 1 Axes>"
            ],
            "image/png": "[encoded data removed]"
          },
          "metadata": {
            "needs_background": "light"
          }
        }
      ]
    },
    {
      "cell_type": "code",
      "source": [
        "df[\"Outcome\"].hist(bins=2)"
      ],
      "metadata": {
        "colab": {
          "base_uri": "https://localhost:8080/",
          "height": 282
        },
        "id": "XEhymgcGGfs-",
        "outputId": "6f60d81b-b744-4e4c-ab69-fb5aa9b04dd5"
      },
      "execution_count": 27,
      "outputs": [
        {
          "output_type": "execute_result",
          "data": {
            "text/plain": [
              "<matplotlib.axes._subplots.AxesSubplot at 0x7f10a82aad90>"
            ]
          },
          "metadata": {},
          "execution_count": 27
        },
        {
          "output_type": "display_data",
          "data": {
            "text/plain": [
              "<Figure size 432x288 with 1 Axes>"
            ],
            "image/png": "[encoded data removed]"
          },
          "metadata": {
            "needs_background": "light"
          }
        }
      ]
    },
    {
      "cell_type": "markdown",
      "source": [
        "# **Z-Test & T-Test**"
      ],
      "metadata": {
        "id": "AdjmJf3YD3WQ"
      }
    },
    {
      "cell_type": "code",
      "source": [
        "#Z-test\n",
        "from statsmodels.stats.weightstats import ztest as ztest\n",
        "import scipy.stats as stats\n",
        " \n",
        "#enter IQ levels for 20 patients\n",
        "data = [88, 92, 94, 94, 96, 97, 97, 97, 99, 99,\n",
        "       105, 109, 109, 109, 110, 112, 112, 113, 114, 115]\n",
        " \n",
        "#perform one sample z-test\n",
        "print(ztest(data, value=10))\n",
        "print(stats.ttest_1samp(data, popmean=10))\n",
        "#value is nothing but H0 or Null hypothesis(here we say that avg is 100)"
      ],
      "metadata": {
        "colab": {
          "base_uri": "https://localhost:8080/"
        },
        "id": "neH3BBlbGnVk",
        "outputId": "90f37ac1-df1d-4748-a867-b453244612c0"
      },
      "execution_count": 3,
      "outputs": [
        {
          "output_type": "stream",
          "name": "stderr",
          "text": [
            "/usr/local/lib/python3.7/dist-packages/statsmodels/tools/_testing.py:19: FutureWarning: pandas.util.testing is deprecated. Use the functions in the public API at pandas.testing instead.\n",
            "  import pandas.util.testing as tm\n"
          ]
        },
        {
          "output_type": "stream",
          "name": "stdout",
          "text": [
            "(48.74062888692116, 0.0)\n",
            "Ttest_1sampResult(statistic=48.74062888692116, pvalue=2.012693678266995e-21)\n"
          ]
        }
      ]
    },
    {
      "cell_type": "markdown",
      "source": [
        "# **perform two sample z-test**"
      ],
      "metadata": {
        "id": "5wF1oEIpHJFP"
      }
    },
    {
      "cell_type": "code",
      "source": [
        "from statsmodels.stats.weightstats import ztest as ztest\n",
        " \n",
        " \n",
        "#enter IQ levels for 20 individuals from each city\n",
        "cityA = [82, 84, 85, 89, 91, 91, 92, 94, 99, 99,\n",
        "        105, 109, 109, 109, 110, 112, 112, 113, 114, 114]\n",
        " \n",
        "cityB = [90, 91, 91, 91, 95, 95, 99, 99, 108, 109,\n",
        "        109, 114, 115, 116, 117, 117, 128, 129, 130, 133]\n",
        " \n",
        "#perform two sample z-test\n",
        "ztest(cityA, cityB, value=0)\n",
        "stats.ttest_ind(a=cityA,b=cityB, equal_var=True) #for ttest\n",
        " \n",
        " \n",
        "#here value of H0 is 0 because null hypothesis is that there is no difference in IQ of two cities"
      ],
      "metadata": {
        "colab": {
          "base_uri": "https://localhost:8080/"
        },
        "id": "iu_YiPaLHE01",
        "outputId": "418ebe6c-6fec-4e11-e25b-232060f1f4be"
      },
      "execution_count": 4,
      "outputs": [
        {
          "output_type": "execute_result",
          "data": {
            "text/plain": [
              "Ttest_indResult(statistic=-1.9953236073282115, pvalue=0.05321388037191098)"
            ]
          },
          "metadata": {},
          "execution_count": 4
        }
      ]
    },
    {
      "cell_type": "code",
      "source": [
        "\n",
        "import pandas as pd\n",
        "df=pd.read_csv('https://raw.githubusercontent.com/Prashantkumar8141/Training-Datasets/main/cs1%2520(1).csv')\n",
        "df"
      ],
      "metadata": {
        "colab": {
          "base_uri": "https://localhost:8080/",
          "height": 488
        },
        "id": "bY4UMTQPNli1",
        "outputId": "741f076a-c908-4d5c-c3d2-59114dafbea9"
      },
      "execution_count": 5,
      "outputs": [
        {
          "output_type": "execute_result",
          "data": {
            "text/plain": [
              "          id  age  gender      region    income married  children  car  \\\n",
              "0    ID12101   48  FEMALE  INNER_CITY  17546.00      NO         1   NO   \n",
              "1    ID12102   40    MALE        TOWN  30085.10     YES         3  YES   \n",
              "2    ID12103   51  FEMALE  INNER_CITY  16575.40     YES         0  YES   \n",
              "3    ID12104   23  FEMALE        TOWN  20375.40     YES         3   NO   \n",
              "4    ID12105   57  FEMALE       RURAL  50576.30     YES         0   NO   \n",
              "..       ...  ...     ...         ...       ...     ...       ...  ...   \n",
              "325  ID12426   24  FEMALE        TOWN   9465.21      NO         0   NO   \n",
              "326  ID12427   39    MALE  INNER_CITY  34852.30     YES         1   NO   \n",
              "327  ID12428   24    MALE  INNER_CITY  21268.40     YES         0   NO   \n",
              "328  ID12429   57  FEMALE       RURAL  50849.20      NO         1   NO   \n",
              "329  ID12430   27  FEMALE        TOWN  18555.90     YES         3   NO   \n",
              "\n",
              "    save_act current_act mortgage   pl  \n",
              "0         NO          NO       NO  YES  \n",
              "1         NO         YES      YES   NO  \n",
              "2        YES         YES       NO   NO  \n",
              "3         NO         YES       NO   NO  \n",
              "4        YES          NO       NO   NO  \n",
              "..       ...         ...      ...  ...  \n",
              "325       NO         YES       NO  YES  \n",
              "326      YES          NO      YES  YES  \n",
              "327       NO         YES      YES  YES  \n",
              "328      YES          NO      YES  YES  \n",
              "329       NO         YES       NO   NO  \n",
              "\n",
              "[330 rows x 12 columns]"
            ],
            "text/html": [
              "\n",
              "  <div id=\"df-200acba3-6e4b-4026-a9d1-03075a8db8e3\">\n",
              "    <div class=\"colab-df-container\">\n",
              "      <div>\n",
              "<style scoped>\n",
              "    .dataframe tbody tr th:only-of-type {\n",
              "        vertical-align: middle;\n",
              "    }\n",
              "\n",
              "    .dataframe tbody tr th {\n",
              "        vertical-align: top;\n",
              "    }\n",
              "\n",
              "    .dataframe thead th {\n",
              "        text-align: right;\n",
              "    }\n",
              "</style>\n",
              "<table border=\"1\" class=\"dataframe\">\n",
              "  <thead>\n",
              "    <tr style=\"text-align: right;\">\n",
              "      <th></th>\n",
              "      <th>id</th>\n",
              "      <th>age</th>\n",
              "      <th>gender</th>\n",
              "      <th>region</th>\n",
              "      <th>income</th>\n",
              "      <th>married</th>\n",
              "      <th>children</th>\n",
              "      <th>car</th>\n",
              "      <th>save_act</th>\n",
              "      <th>current_act</th>\n",
              "      <th>mortgage</th>\n",
              "      <th>pl</th>\n",
              "    </tr>\n",
              "  </thead>\n",
              "  <tbody>\n",
              "    <tr>\n",
              "      <th>0</th>\n",
              "      <td>ID12101</td>\n",
              "      <td>48</td>\n",
              "      <td>FEMALE</td>\n",
              "      <td>INNER_CITY</td>\n",
              "      <td>17546.00</td>\n",
              "      <td>NO</td>\n",
              "      <td>1</td>\n",
              "      <td>NO</td>\n",
              "      <td>NO</td>\n",
              "      <td>NO</td>\n",
              "      <td>NO</td>\n",
              "      <td>YES</td>\n",
              "    </tr>\n",
              "    <tr>\n",
              "      <th>1</th>\n",
              "      <td>ID12102</td>\n",
              "      <td>40</td>\n",
              "      <td>MALE</td>\n",
              "      <td>TOWN</td>\n",
              "      <td>30085.10</td>\n",
              "      <td>YES</td>\n",
              "      <td>3</td>\n",
              "      <td>YES</td>\n",
              "      <td>NO</td>\n",
              "      <td>YES</td>\n",
              "      <td>YES</td>\n",
              "      <td>NO</td>\n",
              "    </tr>\n",
              "    <tr>\n",
              "      <th>2</th>\n",
              "      <td>ID12103</td>\n",
              "      <td>51</td>\n",
              "      <td>FEMALE</td>\n",
              "      <td>INNER_CITY</td>\n",
              "      <td>16575.40</td>\n",
              "      <td>YES</td>\n",
              "      <td>0</td>\n",
              "      <td>YES</td>\n",
              "      <td>YES</td>\n",
              "      <td>YES</td>\n",
              "      <td>NO</td>\n",
              "      <td>NO</td>\n",
              "    </tr>\n",
              "    <tr>\n",
              "      <th>3</th>\n",
              "      <td>ID12104</td>\n",
              "      <td>23</td>\n",
              "      <td>FEMALE</td>\n",
              "      <td>TOWN</td>\n",
              "      <td>20375.40</td>\n",
              "      <td>YES</td>\n",
              "      <td>3</td>\n",
              "      <td>NO</td>\n",
              "      <td>NO</td>\n",
              "      <td>YES</td>\n",
              "      <td>NO</td>\n",
              "      <td>NO</td>\n",
              "    </tr>\n",
              "    <tr>\n",
              "      <th>4</th>\n",
              "      <td>ID12105</td>\n",
              "      <td>57</td>\n",
              "      <td>FEMALE</td>\n",
              "      <td>RURAL</td>\n",
              "      <td>50576.30</td>\n",
              "      <td>YES</td>\n",
              "      <td>0</td>\n",
              "      <td>NO</td>\n",
              "      <td>YES</td>\n",
              "      <td>NO</td>\n",
              "      <td>NO</td>\n",
              "      <td>NO</td>\n",
              "    </tr>\n",
              "    <tr>\n",
              "      <th>...</th>\n",
              "      <td>...</td>\n",
              "      <td>...</td>\n",
              "      <td>...</td>\n",
              "      <td>...</td>\n",
              "      <td>...</td>\n",
              "      <td>...</td>\n",
              "      <td>...</td>\n",
              "      <td>...</td>\n",
              "      <td>...</td>\n",
              "      <td>...</td>\n",
              "      <td>...</td>\n",
              "      <td>...</td>\n",
              "    </tr>\n",
              "    <tr>\n",
              "      <th>325</th>\n",
              "      <td>ID12426</td>\n",
              "      <td>24</td>\n",
              "      <td>FEMALE</td>\n",
              "      <td>TOWN</td>\n",
              "      <td>9465.21</td>\n",
              "      <td>NO</td>\n",
              "      <td>0</td>\n",
              "      <td>NO</td>\n",
              "      <td>NO</td>\n",
              "      <td>YES</td>\n",
              "      <td>NO</td>\n",
              "      <td>YES</td>\n",
              "    </tr>\n",
              "    <tr>\n",
              "      <th>326</th>\n",
              "      <td>ID12427</td>\n",
              "      <td>39</td>\n",
              "      <td>MALE</td>\n",
              "      <td>INNER_CITY</td>\n",
              "      <td>34852.30</td>\n",
              "      <td>YES</td>\n",
              "      <td>1</td>\n",
              "      <td>NO</td>\n",
              "      <td>YES</td>\n",
              "      <td>NO</td>\n",
              "      <td>YES</td>\n",
              "      <td>YES</td>\n",
              "    </tr>\n",
              "    <tr>\n",
              "      <th>327</th>\n",
              "      <td>ID12428</td>\n",
              "      <td>24</td>\n",
              "      <td>MALE</td>\n",
              "      <td>INNER_CITY</td>\n",
              "      <td>21268.40</td>\n",
              "      <td>YES</td>\n",
              "      <td>0</td>\n",
              "      <td>NO</td>\n",
              "      <td>NO</td>\n",
              "      <td>YES</td>\n",
              "      <td>YES</td>\n",
              "      <td>YES</td>\n",
              "    </tr>\n",
              "    <tr>\n",
              "      <th>328</th>\n",
              "      <td>ID12429</td>\n",
              "      <td>57</td>\n",
              "      <td>FEMALE</td>\n",
              "      <td>RURAL</td>\n",
              "      <td>50849.20</td>\n",
              "      <td>NO</td>\n",
              "      <td>1</td>\n",
              "      <td>NO</td>\n",
              "      <td>YES</td>\n",
              "      <td>NO</td>\n",
              "      <td>YES</td>\n",
              "      <td>YES</td>\n",
              "    </tr>\n",
              "    <tr>\n",
              "      <th>329</th>\n",
              "      <td>ID12430</td>\n",
              "      <td>27</td>\n",
              "      <td>FEMALE</td>\n",
              "      <td>TOWN</td>\n",
              "      <td>18555.90</td>\n",
              "      <td>YES</td>\n",
              "      <td>3</td>\n",
              "      <td>NO</td>\n",
              "      <td>NO</td>\n",
              "      <td>YES</td>\n",
              "      <td>NO</td>\n",
              "      <td>NO</td>\n",
              "    </tr>\n",
              "  </tbody>\n",
              "</table>\n",
              "<p>330 rows × 12 columns</p>\n",
              "</div>\n",
              "      <button class=\"colab-df-convert\" onclick=\"convertToInteractive('df-200acba3-6e4b-4026-a9d1-03075a8db8e3')\"\n",
              "              title=\"Convert this dataframe to an interactive table.\"\n",
              "              style=\"display:none;\">\n",
              "        \n",
              "  <svg xmlns=\"http://www.w3.org/2000/svg\" height=\"24px\"viewBox=\"0 0 24 24\"\n",
              "       width=\"24px\">\n",
              "    <path d=\"M0 0h24v24H0V0z\" fill=\"none\"/>\n",
              "    <path d=\"M18.56 5.44l.94 2.06.94-2.06 2.06-.94-2.06-.94-.94-2.06-.94 2.06-2.06.94zm-11 1L8.5 8.5l.94-2.06 2.06-.94-2.06-.94L8.5 2.5l-.94 2.06-2.06.94zm10 10l.94 2.06.94-2.06 2.06-.94-2.06-.94-.94-2.06-.94 2.06-2.06.94z\"/><path d=\"M17.41 7.96l-1.37-1.37c-.4-.4-.92-.59-1.43-.59-.52 0-1.04.2-1.43.59L10.3 9.45l-7.72 7.72c-.78.78-.78 2.05 0 2.83L4 21.41c.39.39.9.59 1.41.59.51 0 1.02-.2 1.41-.59l7.78-7.78 2.81-2.81c.8-.78.8-2.07 0-2.86zM5.41 20L4 18.59l7.72-7.72 1.47 1.35L5.41 20z\"/>\n",
              "  </svg>\n",
              "      </button>\n",
              "      \n",
              "  <style>\n",
              "    .colab-df-container {\n",
              "      display:flex;\n",
              "      flex-wrap:wrap;\n",
              "      gap: 12px;\n",
              "    }\n",
              "\n",
              "    .colab-df-convert {\n",
              "      background-color: #E8F0FE;\n",
              "      border: none;\n",
              "      border-radius: 50%;\n",
              "      cursor: pointer;\n",
              "      display: none;\n",
              "      fill: #1967D2;\n",
              "      height: 32px;\n",
              "      padding: 0 0 0 0;\n",
              "      width: 32px;\n",
              "    }\n",
              "\n",
              "    .colab-df-convert:hover {\n",
              "      background-color: #E2EBFA;\n",
              "      box-shadow: 0px 1px 2px rgba(60, 64, 67, 0.3), 0px 1px 3px 1px rgba(60, 64, 67, 0.15);\n",
              "      fill: #174EA6;\n",
              "    }\n",
              "\n",
              "    [theme=dark] .colab-df-convert {\n",
              "      background-color: #3B4455;\n",
              "      fill: #D2E3FC;\n",
              "    }\n",
              "\n",
              "    [theme=dark] .colab-df-convert:hover {\n",
              "      background-color: #434B5C;\n",
              "      box-shadow: 0px 1px 3px 1px rgba(0, 0, 0, 0.15);\n",
              "      filter: drop-shadow(0px 1px 2px rgba(0, 0, 0, 0.3));\n",
              "      fill: #FFFFFF;\n",
              "    }\n",
              "  </style>\n",
              "\n",
              "      <script>\n",
              "        const buttonEl =\n",
              "          document.querySelector('#df-200acba3-6e4b-4026-a9d1-03075a8db8e3 button.colab-df-convert');\n",
              "        buttonEl.style.display =\n",
              "          google.colab.kernel.accessAllowed ? 'block' : 'none';\n",
              "\n",
              "        async function convertToInteractive(key) {\n",
              "          const element = document.querySelector('#df-200acba3-6e4b-4026-a9d1-03075a8db8e3');\n",
              "          const dataTable =\n",
              "            await google.colab.kernel.invokeFunction('convertToInteractive',\n",
              "                                                     [key], {});\n",
              "          if (!dataTable) return;\n",
              "\n",
              "          const docLinkHtml = 'Like what you see? Visit the ' +\n",
              "            '<a target=\"_blank\" href=https://colab.research.google.com/notebooks/data_table.ipynb>data table notebook</a>'\n",
              "            + ' to learn more about interactive tables.';\n",
              "          element.innerHTML = '';\n",
              "          dataTable['output_type'] = 'display_data';\n",
              "          await google.colab.output.renderOutput(dataTable, element);\n",
              "          const docLink = document.createElement('div');\n",
              "          docLink.innerHTML = docLinkHtml;\n",
              "          element.appendChild(docLink);\n",
              "        }\n",
              "      </script>\n",
              "    </div>\n",
              "  </div>\n",
              "  "
            ]
          },
          "metadata": {},
          "execution_count": 5
        }
      ]
    },
    {
      "cell_type": "code",
      "source": [
        "df[\"age\"].hist(bins=100)     #UNIFORM DISTRIBUTION CONTINIOUS DATA"
      ],
      "metadata": {
        "colab": {
          "base_uri": "https://localhost:8080/",
          "height": 282
        },
        "id": "JzlezIneNvDP",
        "outputId": "b346e889-d9e4-447f-b45b-ad002ce2d7b1"
      },
      "execution_count": 8,
      "outputs": [
        {
          "output_type": "execute_result",
          "data": {
            "text/plain": [
              "<matplotlib.axes._subplots.AxesSubplot at 0x7fa2e879b650>"
            ]
          },
          "metadata": {},
          "execution_count": 8
        },
        {
          "output_type": "display_data",
          "data": {
            "text/plain": [
              "<Figure size 432x288 with 1 Axes>"
            ],
            "image/png": "[encoded data removed]"
          },
          "metadata": {
            "needs_background": "light"
          }
        }
      ]
    },
    {
      "cell_type": "code",
      "source": [
        "df[\"gender\"].hist(bins=100)    #Bernoulli distribution CATEGORICAL DATA"
      ],
      "metadata": {
        "colab": {
          "base_uri": "https://localhost:8080/",
          "height": 282
        },
        "id": "Im-BJQlFPMww",
        "outputId": "3ae9437f-d9e5-4fea-c02e-1aee29e36b31"
      },
      "execution_count": 9,
      "outputs": [
        {
          "output_type": "execute_result",
          "data": {
            "text/plain": [
              "<matplotlib.axes._subplots.AxesSubplot at 0x7fa2e85a0d10>"
            ]
          },
          "metadata": {},
          "execution_count": 9
        },
        {
          "output_type": "display_data",
          "data": {
            "text/plain": [
              "<Figure size 432x288 with 1 Axes>"
            ],
            "image/png": "[encoded data removed]"
          },
          "metadata": {
            "needs_background": "light"
          }
        }
      ]
    },
    {
      "cell_type": "code",
      "source": [
        "df[\"region\"].hist(bins=100) "
      ],
      "metadata": {
        "colab": {
          "base_uri": "https://localhost:8080/",
          "height": 284
        },
        "id": "-EtjAtTMPumw",
        "outputId": "47bb65a5-2088-41fc-be45-8256c0daed91"
      },
      "execution_count": 10,
      "outputs": [
        {
          "output_type": "execute_result",
          "data": {
            "text/plain": [
              "<matplotlib.axes._subplots.AxesSubplot at 0x7fa2e83c9bd0>"
            ]
          },
          "metadata": {},
          "execution_count": 10
        },
        {
          "output_type": "display_data",
          "data": {
            "text/plain": [
              "<Figure size 432x288 with 1 Axes>"
            ],
            "image/png": "[encoded data removed]"
          },
          "metadata": {
            "needs_background": "light"
          }
        }
      ]
    },
    {
      "cell_type": "code",
      "source": [
        "print(df.groupby(\"gender\")[\"income\"].mean())\n",
        "male=df[df[\"gender\"]==\"MALE\"][\"income\"]\n",
        "female=df[df[\"gender\"]==\"FEMALE\"][\"income\"]\n",
        "print(male)"
      ],
      "metadata": {
        "colab": {
          "base_uri": "https://localhost:8080/"
        },
        "id": "gd-gtH3jQGHZ",
        "outputId": "51386e93-0cd0-43cb-ecb0-e89c4dced463"
      },
      "execution_count": 12,
      "outputs": [
        {
          "output_type": "stream",
          "name": "stdout",
          "text": [
            "gender\n",
            "FEMALE    27435.078875\n",
            "MALE      27082.060176\n",
            "Name: income, dtype: float64\n",
            "1      30085.10\n",
            "6       8877.07\n",
            "7      24946.60\n",
            "9      24212.10\n",
            "14     19474.60\n",
            "         ...   \n",
            "321    22882.90\n",
            "323    24027.60\n",
            "324    28495.10\n",
            "326    34852.30\n",
            "327    21268.40\n",
            "Name: income, Length: 170, dtype: float64\n"
          ]
        }
      ]
    },
    {
      "cell_type": "code",
      "source": [
        "# income vs children\n",
        "import scipy.stats as st\n",
        "st.ttest_ind(male, female,)\n",
        "\n",
        "st.ttest_ind(df[\"income\"],df[\"children\"])\n"
      ],
      "metadata": {
        "colab": {
          "base_uri": "https://localhost:8080/"
        },
        "id": "fd9zYzffR7G7",
        "outputId": "abfaa67f-4dc3-4edf-ec1b-cba0f31a31bd"
      },
      "execution_count": 13,
      "outputs": [
        {
          "output_type": "execute_result",
          "data": {
            "text/plain": [
              "Ttest_indResult(statistic=37.89114923263721, pvalue=1.5384168960360209e-167)"
            ]
          },
          "metadata": {},
          "execution_count": 13
        }
      ]
    },
    {
      "cell_type": "code",
      "source": [
        "\n",
        "# income vs pl\n",
        "pl_yes=df[df[\"pl\"]==\"YES\"][\"income\"]\n",
        "pl_no=df[df[\"pl\"]==\"NO\"][\"income\"]\n",
        "df.groupby(\"pl\")[\"income\"].mean()\n",
        "print(pl_yes.head(5))\n",
        "print(pl_no.head(5))\n",
        "pl_no\n",
        "\n",
        "age=df[\"age\"]\n",
        "inc=df[\"income\"]\n",
        "st.ttest_ind(pl_yes,pl_no)\n",
        "st.ttest_ind(age,inc,equal_var=True)"
      ],
      "metadata": {
        "colab": {
          "base_uri": "https://localhost:8080/"
        },
        "id": "Vs3JtkBxVMbG",
        "outputId": "f8be1efe-7155-42f0-be4f-c2552bcfe15d"
      },
      "execution_count": 14,
      "outputs": [
        {
          "output_type": "stream",
          "name": "stdout",
          "text": [
            "0     17546.00\n",
            "5     37869.60\n",
            "6      8877.07\n",
            "12    15735.80\n",
            "13    55204.70\n",
            "Name: income, dtype: float64\n",
            "1    30085.1\n",
            "2    16575.4\n",
            "3    20375.4\n",
            "4    50576.3\n",
            "7    24946.6\n",
            "Name: income, dtype: float64\n"
          ]
        },
        {
          "output_type": "execute_result",
          "data": {
            "text/plain": [
              "Ttest_indResult(statistic=-37.83413254443953, pvalue=3.035491870002726e-167)"
            ]
          },
          "metadata": {},
          "execution_count": 14
        }
      ]
    },
    {
      "cell_type": "code",
      "source": [
        "\n",
        "print(df.children.unique())\n",
        "c0 = df[df['children'] == 0]['income']        # c0 = 0 children\n",
        "c1 = df[df['children'] == 1]['income']\n",
        "c2 = df[df['children'] == 2]['income']\n",
        "c3 = df[df['children'] == 3]['income']\n",
        "import seaborn as sns\n",
        "import matplotlib.pyplot as plt\n",
        "sns.boxplot(x='children',y=\"income\",data=df)\n",
        "plt.show()\n",
        "st.f_oneway(c0,c1,c2,c3)"
      ],
      "metadata": {
        "colab": {
          "base_uri": "https://localhost:8080/",
          "height": 314
        },
        "id": "GgN0bKf0XFpk",
        "outputId": "dbc2fdbb-f3c0-4237-bbc7-9a0dab4a2e04"
      },
      "execution_count": 15,
      "outputs": [
        {
          "output_type": "stream",
          "name": "stdout",
          "text": [
            "[1 3 0 2]\n"
          ]
        },
        {
          "output_type": "display_data",
          "data": {
            "text/plain": [
              "<Figure size 432x288 with 1 Axes>"
            ],
            "image/png": "[encoded data removed]"
          },
          "metadata": {
            "needs_background": "light"
          }
        },
        {
          "output_type": "execute_result",
          "data": {
            "text/plain": [
              "F_onewayResult(statistic=0.5667851690722862, pvalue=0.6372599526845)"
            ]
          },
          "metadata": {},
          "execution_count": 15
        }
      ]
    },
    {
      "cell_type": "code",
      "source": [
        "from statsmodels.stats.proportion import proportions_ztest\n",
        "#From the people taken pl how many are male and female :\n",
        "#Compute a simple cross tabulation of two (or more) factors. By default computes a frequency table of the factors\n",
        " \n",
        "tab = pd.crosstab(df['gender'],df['region'])\n",
        "tab = tab.T\n",
        "print(tab)\n",
        " \n",
        "#print(proportions_ztest([86,62],[170,160]))\n",
        " \n",
        "#chi2_contingency function\n",
        "#Returns:\n",
        " \n",
        "'''chi2 : float\n",
        "The test statistic.\n",
        " \n",
        "p : float\n",
        "The p-value of the test\n",
        " \n",
        "dof : int\n",
        "Degrees of freedom'''\n",
        " \n",
        "st.chi2_contingency(tab)"
      ],
      "metadata": {
        "colab": {
          "base_uri": "https://localhost:8080/"
        },
        "id": "B_nHHOgrXLIa",
        "outputId": "1ff08090-b0b7-4ae5-a923-10442b344336"
      },
      "execution_count": 16,
      "outputs": [
        {
          "output_type": "stream",
          "name": "stdout",
          "text": [
            "gender      FEMALE  MALE\n",
            "region                  \n",
            "INNER_CITY      73    82\n",
            "RURAL           27    27\n",
            "SUBURBAN        13    12\n",
            "TOWN            47    49\n"
          ]
        },
        {
          "output_type": "execute_result",
          "data": {
            "text/plain": [
              "(0.30149386266603445, 0.9597472806367656, 3, array([[75.15151515, 79.84848485],\n",
              "        [26.18181818, 27.81818182],\n",
              "        [12.12121212, 12.87878788],\n",
              "        [46.54545455, 49.45454545]]))"
            ]
          },
          "metadata": {},
          "execution_count": 16
        }
      ]
    },
    {
      "cell_type": "code",
      "source": [
        "import seaborn as sns\n",
        "sns.set_theme(style=\"ticks\")\n",
        " \n",
        "# Load the example dataset for Anscombe's quartet\n",
        "df = sns.load_dataset(\"anscombe\")\n",
        "print(df.head(5))\n",
        " \n",
        "# Show the results of a linear regression within each dataset\n",
        "sns.lmplot(x=\"x\", y=\"y\", col=\"dataset\", hue=\"dataset\", data=df,\n",
        "          col_wrap=2, ci=None, palette=\"muted\", height=4,\n",
        "          scatter_kws={\"s\": 50, \"alpha\": 1})"
      ],
      "metadata": {
        "colab": {
          "base_uri": "https://localhost:8080/",
          "height": 702
        },
        "id": "vkwrKDtPXRtQ",
        "outputId": "80b4e8ac-f4ea-4575-8dee-0982a217b16d"
      },
      "execution_count": 21,
      "outputs": [
        {
          "output_type": "stream",
          "name": "stdout",
          "text": [
            "  dataset     x     y\n",
            "0       I  10.0  8.04\n",
            "1       I   8.0  6.95\n",
            "2       I  13.0  7.58\n",
            "3       I   9.0  8.81\n",
            "4       I  11.0  8.33\n"
          ]
        },
        {
          "output_type": "execute_result",
          "data": {
            "text/plain": [
              "<seaborn.axisgrid.FacetGrid at 0x7fa2e780e290>"
            ]
          },
          "metadata": {},
          "execution_count": 21
        },
        {
          "output_type": "display_data",
          "data": {
            "text/plain": [
              "<Figure size 576x576 with 4 Axes>"
            ],
            "image/png": "[encoded data removed]"
          },
          "metadata": {}
        }
      ]
    },
    {
      "cell_type": "code",
      "source": [
        ""
      ],
      "metadata": {
        "id": "9jgz9_LeXZPQ"
      },
      "execution_count": null,
      "outputs": []
    }
  ]
}